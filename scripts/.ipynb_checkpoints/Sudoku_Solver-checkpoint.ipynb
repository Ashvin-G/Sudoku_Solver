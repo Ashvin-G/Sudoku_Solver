{
 "cells": [
  {
   "cell_type": "code",
   "execution_count": 1,
   "metadata": {},
   "outputs": [],
   "source": [
    "import cv2\n",
    "import numpy as np\n",
    "import operator\n",
    "import os\n",
    "import tensorflow as tf\n",
    "import logging\n",
    "import matplotlib.pyplot as plt"
   ]
  },
  {
   "cell_type": "code",
   "execution_count": 2,
   "metadata": {},
   "outputs": [],
   "source": [
    "logging.disable(logging.WARNING)\n",
    "os.environ[\"TF_CPP_MIN_LOG_LEVEL\"] = \"3\""
   ]
  },
  {
   "cell_type": "code",
   "execution_count": 3,
   "metadata": {},
   "outputs": [],
   "source": [
    "model = tf.keras.models.load_model('../model/Conv2D_Digit_Recog.model')"
   ]
  },
  {
   "cell_type": "code",
   "execution_count": 4,
   "metadata": {},
   "outputs": [],
   "source": [
    "grid = cv2.imread('../sample_images_sudoku_grid/grid_2.png')\n",
    "grid = cv2.resize(grid, (360, 360))"
   ]
  },
  {
   "cell_type": "code",
   "execution_count": 5,
   "metadata": {},
   "outputs": [],
   "source": [
    "gray = cv2.cvtColor(grid, cv2.COLOR_BGR2GRAY)\n",
    "thresh = cv2.adaptiveThreshold(gray, 255, cv2.ADAPTIVE_THRESH_GAUSSIAN_C, cv2.THRESH_BINARY, 11, 12)\n",
    "inv = cv2.bitwise_not(thresh)"
   ]
  },
  {
   "cell_type": "code",
   "execution_count": 6,
   "metadata": {},
   "outputs": [],
   "source": [
    "contours, hierarchy = cv2.findContours(inv, cv2.RETR_EXTERNAL, cv2.CHAIN_APPROX_SIMPLE)\n",
    "contours = sorted(contours, key=cv2.contourArea, reverse=True)\n",
    "\n",
    "polygon = contours[0]"
   ]
  },
  {
   "cell_type": "code",
   "execution_count": 7,
   "metadata": {},
   "outputs": [],
   "source": [
    "bottom_right, ret = max(enumerate([pt[0][0] + pt[0][1] for pt in polygon]), key=operator.itemgetter(1))\n",
    "top_left, ret = min(enumerate([pt[0][0] + pt[0][1] for pt in polygon]), key=operator.itemgetter(1))\n",
    "bottom_left, ret = min(enumerate([pt[0][0] - pt[0][1] for pt in polygon]), key=operator.itemgetter(1))\n",
    "top_right, ret = max(enumerate([pt[0][0] - pt[0][1] for pt in polygon]), key=operator.itemgetter(1))"
   ]
  },
  {
   "cell_type": "code",
   "execution_count": 8,
   "metadata": {},
   "outputs": [],
   "source": [
    "pts1 = np.float32([polygon[top_left][0], polygon[top_right][0], polygon[bottom_left][0], polygon[bottom_right][0]])\n",
    "pts2 = np.float32([[0, 0], [360, 0], [0, 360], [360, 360]])\n",
    "matrix = cv2.getPerspectiveTransform(pts1, pts2)\n",
    "result = cv2.warpPerspective(inv, matrix, (360, 360))"
   ]
  },
  {
   "cell_type": "code",
   "execution_count": 9,
   "metadata": {},
   "outputs": [],
   "source": [
    "squares = []\n",
    "side = grid.shape[:1]\n",
    "side = int(side[0]/9)\n",
    "for j in range(9):\n",
    "    for i in range(9):\n",
    "        p1 = (i * side, j * side)\n",
    "        p2 = ((i + 1) * side, (j + 1) * side)\n",
    "        squares.append((p1, p2))"
   ]
  },
  {
   "cell_type": "code",
   "execution_count": 10,
   "metadata": {},
   "outputs": [],
   "source": [
    "zero = cv2.imread('../custom_images/zero.jpg', cv2.IMREAD_GRAYSCALE)"
   ]
  },
  {
   "cell_type": "code",
   "execution_count": 11,
   "metadata": {},
   "outputs": [],
   "source": [
    "images = []\n",
    "kernel = np.ones((3, 3), np.uint8)"
   ]
  },
  {
   "cell_type": "code",
   "execution_count": 12,
   "metadata": {},
   "outputs": [],
   "source": [
    "for i in range(0, 81):\n",
    "    img = result[squares[i][0][1]:squares[i][1][1], squares[i][0][0]:squares[i][1][0]]\n",
    "    img = cv2.resize(img, (50, 50))\n",
    "    img = img[5:45, 5:45]\n",
    "    images.append(img)\n",
    "    "
   ]
  },
  {
   "cell_type": "code",
   "execution_count": 13,
   "metadata": {},
   "outputs": [],
   "source": [
    "images = np.array(images, np.uint8)"
   ]
  },
  {
   "cell_type": "code",
   "execution_count": 14,
   "metadata": {},
   "outputs": [],
   "source": [
    "x_test = []"
   ]
  },
  {
   "cell_type": "code",
   "execution_count": 15,
   "metadata": {},
   "outputs": [],
   "source": [
    "for x in range(0, 81):\n",
    "    img = images[x]\n",
    "    rows, cols = img.shape\n",
    "    ret, thresh = cv2.threshold(img, 127, 255, cv2.THRESH_BINARY)\n",
    "\n",
    "    ctr = 0\n",
    "\n",
    "    for i in range(rows):\n",
    "        for j in range(cols):\n",
    "            k = thresh[i, j]\n",
    "            if k == 255:\n",
    "                ctr = ctr + 1\n",
    "\n",
    "    per = (ctr/(rows*cols))*100\n",
    "\n",
    "    if per < 5:\n",
    "        thresh = zero\n",
    "        x_test.append(thresh)\n",
    "    else:\n",
    "        x_test.append(thresh)"
   ]
  },
  {
   "cell_type": "code",
   "execution_count": 24,
   "metadata": {},
   "outputs": [],
   "source": [
    "x_test = np.array(x_test, np.uint8)"
   ]
  },
  {
   "cell_type": "code",
   "execution_count": 25,
   "metadata": {},
   "outputs": [],
   "source": [
    "num = []"
   ]
  },
  {
   "cell_type": "code",
   "execution_count": 26,
   "metadata": {},
   "outputs": [],
   "source": [
    "for i in range(0, 81):\n",
    "    img = x_test[i]\n",
    "    img = cv2.resize(img, (28, 28))\n",
    "    test = img.reshape(-1, 28, 28, 1)\n",
    "    \n",
    "    prediction = model.predict(test)\n",
    "    num.append(np.argmax(prediction))"
   ]
  },
  {
   "cell_type": "code",
   "execution_count": 38,
   "metadata": {},
   "outputs": [],
   "source": [
    "row = []\n",
    "row_1 = []\n",
    "row_2 = []\n",
    "row_3 = []\n",
    "row_4 = []\n",
    "row_5 = []\n",
    "row_6 = []\n",
    "row_7 = []\n",
    "row_8 = []\n",
    "row_9 = []"
   ]
  },
  {
   "cell_type": "code",
   "execution_count": 39,
   "metadata": {},
   "outputs": [],
   "source": [
    "for i in range(0, 9):\n",
    "    row_1.append(num[i])\n",
    "row.append(row_1)\n",
    "\n",
    "for i in range(9, 18):\n",
    "    row_2.append(num[i])\n",
    "row.append(row_2)\n",
    "\n",
    "for i in range(18, 27):\n",
    "    row_3.append(num[i])\n",
    "row.append(row_3)\n",
    "\n",
    "for i in range(27, 36):\n",
    "    row_4.append(num[i])\n",
    "row.append(row_4)\n",
    "\n",
    "for i in range(36, 45):\n",
    "    row_5.append(num[i])\n",
    "row.append(row_5)\n",
    "\n",
    "for i in range(45, 54):\n",
    "    row_6.append(num[i])\n",
    "row.append(row_6)\n",
    "\n",
    "for i in range(54, 63):\n",
    "    row_7.append(num[i])\n",
    "row.append(row_7)\n",
    "\n",
    "for i in range(63, 72):\n",
    "    row_8.append(num[i])\n",
    "row.append(row_8)\n",
    "\n",
    "for i in range(72, 81):\n",
    "    row_9.append(num[i])\n",
    "row.append(row_9)"
   ]
  },
  {
   "cell_type": "code",
   "execution_count": 40,
   "metadata": {},
   "outputs": [],
   "source": [
    "def print_board(bo):\n",
    "    for i in range(len(bo)):\n",
    "        if i % 3 == 0 and i != 0:\n",
    "            print(\"- - - - - - - - - - - - - \")\n",
    "\n",
    "        for j in range(len(bo[0])):\n",
    "            if j % 3 == 0 and j != 0:\n",
    "                print(\" | \", end=\"\")\n",
    "\n",
    "            if j == 8:\n",
    "                print(bo[i][j])\n",
    "            else:\n",
    "                print(str(bo[i][j]) + \" \", end=\"\")"
   ]
  },
  {
   "cell_type": "code",
   "execution_count": 47,
   "metadata": {},
   "outputs": [
    {
     "name": "stdout",
     "output_type": "stream",
     "text": [
      "5 3 0  | 0 7 0  | 0 0 0\n",
      "6 0 0  | 1 9 5  | 0 0 0\n",
      "0 9 8  | 0 0 0  | 0 6 0\n",
      "- - - - - - - - - - - - - \n",
      "8 0 0  | 0 6 0  | 0 0 3\n",
      "4 0 0  | 8 0 3  | 0 0 1\n",
      "7 0 0  | 0 2 0  | 0 0 6\n",
      "- - - - - - - - - - - - - \n",
      "0 6 0  | 0 0 0  | 2 8 0\n",
      "0 0 0  | 4 1 9  | 0 0 5\n",
      "0 0 0  | 0 8 0  | 0 7 9\n"
     ]
    },
    {
     "data": {
      "image/png": "[encoded data removed]",
      "text/plain": [
       "<Figure size 432x288 with 1 Axes>"
      ]
     },
     "metadata": {
      "needs_background": "light"
     },
     "output_type": "display_data"
    }
   ],
   "source": [
    "print_board(row)\n",
    "plt.imshow(grid)\n",
    "plt.axis(\"off\")\n",
    "plt.show()"
   ]
  },
  {
   "cell_type": "code",
   "execution_count": 48,
   "metadata": {},
   "outputs": [],
   "source": [
    "def find_empty(bo):\n",
    "    for i in range(len(bo)):\n",
    "        for j in range(len(bo[0])):\n",
    "            if bo[i][j] == 0:\n",
    "                return (i, j)  # row, col\n",
    "\n",
    "    return None\n",
    "board = row\n",
    "\n",
    "def solve(bo):\n",
    "    find = find_empty(bo)\n",
    "    if not find:\n",
    "        return True\n",
    "    else:\n",
    "        row, col = find\n",
    "\n",
    "    for i in range(1,10):\n",
    "        if valid(bo, i, (row, col)):\n",
    "            bo[row][col] = i\n",
    "\n",
    "            if solve(bo):\n",
    "                return True\n",
    "\n",
    "            bo[row][col] = 0\n",
    "\n",
    "    return False\n",
    "\n",
    "\n",
    "def valid(bo, num, pos):\n",
    "    # Check row\n",
    "    for i in range(len(bo[0])):\n",
    "        if bo[pos[0]][i] == num and pos[1] != i:\n",
    "            return False\n",
    "\n",
    "    # Check column\n",
    "    for i in range(len(bo)):\n",
    "        if bo[i][pos[1]] == num and pos[0] != i:\n",
    "            return False\n",
    "\n",
    "    # Check box\n",
    "    box_x = pos[1] // 3\n",
    "    box_y = pos[0] // 3\n",
    "\n",
    "    for i in range(box_y*3, box_y*3 + 3):\n",
    "        for j in range(box_x * 3, box_x*3 + 3):\n",
    "            if bo[i][j] == num and (i,j) != pos:\n",
    "                return False\n",
    "\n",
    "    return True\n",
    "\n",
    "\n",
    "def print_board(bo):\n",
    "    for i in range(len(bo)):\n",
    "        if i % 3 == 0 and i != 0:\n",
    "            print(\"- - - - - - - - - - - - - \")\n",
    "\n",
    "        for j in range(len(bo[0])):\n",
    "            if j % 3 == 0 and j != 0:\n",
    "                print(\" | \", end=\"\")\n",
    "\n",
    "            if j == 8:\n",
    "                print(bo[i][j])\n",
    "            else:\n",
    "                print(str(bo[i][j]) + \" \", end=\"\")\n",
    "\n",
    "\n",
    "def find_empty(bo):\n",
    "    for i in range(len(bo)):\n",
    "        for j in range(len(bo[0])):\n",
    "            if bo[i][j] == 0:\n",
    "                return (i, j)  # row, col\n",
    "\n",
    "    return None"
   ]
  },
  {
   "cell_type": "code",
   "execution_count": 49,
   "metadata": {},
   "outputs": [
    {
     "name": "stdout",
     "output_type": "stream",
     "text": [
      "5 3 4  | 6 7 8  | 9 1 2\n",
      "6 7 2  | 1 9 5  | 3 4 8\n",
      "1 9 8  | 3 4 2  | 5 6 7\n",
      "- - - - - - - - - - - - - \n",
      "8 5 9  | 7 6 1  | 4 2 3\n",
      "4 2 6  | 8 5 3  | 7 9 1\n",
      "7 1 3  | 9 2 4  | 8 5 6\n",
      "- - - - - - - - - - - - - \n",
      "9 6 1  | 5 3 7  | 2 8 4\n",
      "2 8 7  | 4 1 9  | 6 3 5\n",
      "3 4 5  | 2 8 6  | 1 7 9\n"
     ]
    }
   ],
   "source": [
    "solve(row)\n",
    "print_board(row)"
   ]
  },
  {
   "cell_type": "code",
   "execution_count": null,
   "metadata": {},
   "outputs": [],
   "source": []
  }
 ],
 "metadata": {
  "kernelspec": {
   "display_name": "Python 3",
   "language": "python",
   "name": "python3"
  },
  "language_info": {
   "codemirror_mode": {
    "name": "ipython",
    "version": 3
   },
   "file_extension": ".py",
   "mimetype": "text/x-python",
   "name": "python",
   "nbconvert_exporter": "python",
   "pygments_lexer": "ipython3",
   "version": "3.7.4"
  }
 },
 "nbformat": 4,
 "nbformat_minor": 2
}
